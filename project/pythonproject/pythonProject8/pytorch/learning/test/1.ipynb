{
 "cells": [
  {
   "cell_type": "code",
   "id": "initial_id",
   "metadata": {
    "collapsed": true,
    "ExecuteTime": {
     "end_time": "2024-08-28T06:29:04.555553Z",
     "start_time": "2024-08-28T06:29:01.761132Z"
    }
   },
   "source": [
    "import torch\n",
    "from torch import nn as nn"
   ],
   "outputs": [],
   "execution_count": 1
  },
  {
   "metadata": {
    "ExecuteTime": {
     "end_time": "2024-08-28T06:32:13.505282Z",
     "start_time": "2024-08-28T06:32:13.477646Z"
    }
   },
   "cell_type": "code",
   "source": [
    "softmax=nn.Softmax(dim=0)\n",
    "x=torch.tensor([1,2,3],dtype=torch.float32)\n",
    "softmax(x)"
   ],
   "id": "8a71f817af7acd2b",
   "outputs": [
    {
     "data": {
      "text/plain": [
       "tensor([0.0900, 0.2447, 0.6652])"
      ]
     },
     "execution_count": 6,
     "metadata": {},
     "output_type": "execute_result"
    }
   ],
   "execution_count": 6
  },
  {
   "metadata": {},
   "cell_type": "code",
   "outputs": [],
   "execution_count": null,
   "source": "",
   "id": "a94d3b8edf75ce8d"
  }
 ],
 "metadata": {
  "kernelspec": {
   "display_name": "Python 3",
   "language": "python",
   "name": "python3"
  },
  "language_info": {
   "codemirror_mode": {
    "name": "ipython",
    "version": 2
   },
   "file_extension": ".py",
   "mimetype": "text/x-python",
   "name": "python",
   "nbconvert_exporter": "python",
   "pygments_lexer": "ipython2",
   "version": "2.7.6"
  }
 },
 "nbformat": 4,
 "nbformat_minor": 5
}
