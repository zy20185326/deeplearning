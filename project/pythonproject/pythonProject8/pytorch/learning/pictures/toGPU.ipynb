{
 "cells": [
  {
   "cell_type": "code",
   "id": "initial_id",
   "metadata": {
    "collapsed": true,
    "ExecuteTime": {
     "end_time": "2024-08-30T02:39:54.682767Z",
     "start_time": "2024-08-30T02:39:54.665714Z"
    }
   },
   "source": [
    "import torch\n",
    "import torch.nn as nn\n",
    "import torch.optim as optim\n",
    "import torchvision.datasets as datasets\n",
    "import torchvision.transforms as transforms\n",
    "import datetime"
   ],
   "outputs": [],
   "execution_count": 3
  },
  {
   "metadata": {
    "ExecuteTime": {
     "end_time": "2024-08-30T02:39:19.959897Z",
     "start_time": "2024-08-30T02:39:19.950435Z"
    }
   },
   "cell_type": "code",
   "source": [
    "device = (torch.device('cuda') if torch.cuda.is_available() \n",
    " else torch.device('cpu')) \n",
    "print(f\"Training on device {device}.\")"
   ],
   "id": "7b6a6ddf5f0972f9",
   "outputs": [
    {
     "name": "stdout",
     "output_type": "stream",
     "text": [
      "Training on device cuda.\n"
     ]
    }
   ],
   "execution_count": 2
  },
  {
   "metadata": {
    "ExecuteTime": {
     "end_time": "2024-08-30T02:41:35.226864Z",
     "start_time": "2024-08-30T02:41:35.213869Z"
    }
   },
   "cell_type": "code",
   "source": "datapath='F:\\\\deeplearning\\\\datasets'",
   "id": "259ce76da0cd485e",
   "outputs": [],
   "execution_count": 5
  },
  {
   "metadata": {
    "ExecuteTime": {
     "end_time": "2024-08-30T02:41:37.645257Z",
     "start_time": "2024-08-30T02:41:37.632461Z"
    }
   },
   "cell_type": "code",
   "source": [
    "class Net(nn.Module):\n",
    "    def __init__(self):\n",
    "        super().__init__()\n",
    "        self.conv1=nn.Conv2d(3,16,kernel_size=3,padding=1)\n",
    "        self.active1=nn.Tanh()\n",
    "        self.pool1=nn.MaxPool2d(2)\n",
    "        self.conv2=nn.Conv2d(16,8,kernel_size=3,padding=1)\n",
    "        self.active2=nn.Tanh()\n",
    "        self.pool2=nn.MaxPool2d(2)\n",
    "        self.fullyconnected1=nn.Linear(8*8*8,32)\n",
    "        self.active3=nn.Tanh()\n",
    "        self.fullyconnected2=nn.Linear(32,2)\n",
    "    def forward(self,x):\n",
    "        input=self.pool1(self.active1(self.conv1(x)))\n",
    "        input=self.pool2(self.active2(self.conv2(input)))\n",
    "        input=input.view(-1,8*8*8)\n",
    "        input=self.active3(self.fullyconnected1(input))\n",
    "        input=self.fullyconnected2(input)\n",
    "        return input\n",
    "        "
   ],
   "id": "5970375e1a2efb47",
   "outputs": [],
   "execution_count": 6
  },
  {
   "metadata": {
    "ExecuteTime": {
     "end_time": "2024-08-30T02:41:39.618766Z",
     "start_time": "2024-08-30T02:41:39.586994Z"
    }
   },
   "cell_type": "code",
   "source": [
    "loaded_model = Net() \n",
    "loaded_model.load_state_dict(torch.load(datapath + 'birds_vs_airplanes.pt'))"
   ],
   "id": "b45f7c743d70ca86",
   "outputs": [
    {
     "data": {
      "text/plain": [
       "<All keys matched successfully>"
      ]
     },
     "execution_count": 7,
     "metadata": {},
     "output_type": "execute_result"
    }
   ],
   "execution_count": 7
  },
  {
   "metadata": {
    "ExecuteTime": {
     "end_time": "2024-08-30T02:58:24.676264Z",
     "start_time": "2024-08-30T02:58:24.175068Z"
    }
   },
   "cell_type": "code",
   "source": "tensor_cifar10=datasets.CIFAR10(datapath,train=False,download=False,transform=transforms.ToTensor())",
   "id": "314f14d902b644ba",
   "outputs": [],
   "execution_count": 8
  },
  {
   "metadata": {
    "ExecuteTime": {
     "end_time": "2024-08-30T02:58:28.678268Z",
     "start_time": "2024-08-30T02:58:26.807545Z"
    }
   },
   "cell_type": "code",
   "source": [
    "imgs=torch.stack([img for img ,_ in tensor_cifar10],dim=3)\n",
    "a = imgs.view(3, -1).mean(dim=1)\n",
    "b = imgs.view(3, -1).std(dim=1)"
   ],
   "id": "af3b12c63bdb2b04",
   "outputs": [],
   "execution_count": 9
  },
  {
   "metadata": {
    "ExecuteTime": {
     "end_time": "2024-08-30T02:58:56.796403Z",
     "start_time": "2024-08-30T02:58:56.023518Z"
    }
   },
   "cell_type": "code",
   "source": "transforms_cifar10= datasets.CIFAR10(datapath,train=True,download=False,transform=transforms.Compose([transforms.ToTensor(),transforms.Normalize(a, b)]))    ",
   "id": "cfd95327eb40c340",
   "outputs": [],
   "execution_count": 11
  },
  {
   "metadata": {
    "ExecuteTime": {
     "end_time": "2024-08-30T02:58:30.420067Z",
     "start_time": "2024-08-30T02:58:29.854460Z"
    }
   },
   "cell_type": "code",
   "source": "transforms_cifar10_val= datasets.CIFAR10(datapath,train=False,download=False,transform=transforms.Compose([transforms.ToTensor(),transforms.Normalize(a, b)])) ",
   "id": "326fff7412d3aae5",
   "outputs": [],
   "execution_count": 10
  },
  {
   "metadata": {
    "ExecuteTime": {
     "end_time": "2024-08-30T02:59:39.075037Z",
     "start_time": "2024-08-30T02:59:29.841162Z"
    }
   },
   "cell_type": "code",
   "source": [
    "label_map={0:0,2:1}\n",
    "cifar2=[ (img,label_map[label]) for img,label in transforms_cifar10 if label in [0,2] ]"
   ],
   "id": "b76647661375a458",
   "outputs": [],
   "execution_count": 12
  },
  {
   "metadata": {
    "ExecuteTime": {
     "end_time": "2024-08-30T02:59:42.706080Z",
     "start_time": "2024-08-30T02:59:42.688750Z"
    }
   },
   "cell_type": "code",
   "source": [
    "def training_loop(n_epochs, optimizer, model, loss_fn, train_loader): \n",
    "    for epoch in range(1, n_epochs + 1): \n",
    "        loss_train = 0.0 \n",
    "        for imgs, labels in train_loader: \n",
    "            imgs = imgs.to(device=device) \n",
    "            labels = labels.to(device=device) \n",
    "            outputs = model(imgs) \n",
    "            loss = loss_fn(outputs, labels) \n",
    "            optimizer.zero_grad() \n",
    "            loss.backward() \n",
    "            optimizer.step() \n",
    "            loss_train += loss.item() \n",
    "    if epoch == 1 or epoch % 10 == 0: \n",
    "        print('{} Epoch {}, Training loss {}'.format( datetime.datetime.now(), epoch, loss_train / len(train_loader)))"
   ],
   "id": "13b9a76b70430d6d",
   "outputs": [],
   "execution_count": 13
  },
  {
   "metadata": {
    "ExecuteTime": {
     "end_time": "2024-08-30T02:59:50.094421Z",
     "start_time": "2024-08-30T02:59:48.545837Z"
    }
   },
   "cell_type": "code",
   "source": [
    "train_loader = torch.utils.data.DataLoader(cifar2, batch_size=64, shuffle=True)\n",
    "model=Net().to(device)\n",
    "loss_fn = nn.CrossEntropyLoss()\n",
    "learning_rate=1e-2\n",
    "optim=optim.SGD(model.parameters(), lr=learning_rate)"
   ],
   "id": "c78403fb188d2288",
   "outputs": [],
   "execution_count": 14
  },
  {
   "metadata": {
    "ExecuteTime": {
     "end_time": "2024-08-30T03:00:51.391139Z",
     "start_time": "2024-08-30T02:59:51.195389Z"
    }
   },
   "cell_type": "code",
   "source": "training_loop(n_epochs=100,optimizer=optim, model=model, loss_fn=loss_fn, train_loader=train_loader)",
   "id": "4e27b84f61a33fc5",
   "outputs": [
    {
     "name": "stdout",
     "output_type": "stream",
     "text": [
      "2024-08-30 11:00:51.353017 Epoch 100, Training loss 0.15302608076744018\n"
     ]
    }
   ],
   "execution_count": 15
  },
  {
   "metadata": {},
   "cell_type": "code",
   "outputs": [],
   "execution_count": null,
   "source": "",
   "id": "64ba57ab2e62474f"
  }
 ],
 "metadata": {
  "kernelspec": {
   "display_name": "Python 3",
   "language": "python",
   "name": "python3"
  },
  "language_info": {
   "codemirror_mode": {
    "name": "ipython",
    "version": 2
   },
   "file_extension": ".py",
   "mimetype": "text/x-python",
   "name": "python",
   "nbconvert_exporter": "python",
   "pygments_lexer": "ipython2",
   "version": "2.7.6"
  }
 },
 "nbformat": 4,
 "nbformat_minor": 5
}
