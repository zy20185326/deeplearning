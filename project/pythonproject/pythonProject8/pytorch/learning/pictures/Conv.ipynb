{
 "cells": [
  {
   "cell_type": "code",
   "id": "initial_id",
   "metadata": {
    "collapsed": true,
    "ExecuteTime": {
     "end_time": "2024-08-29T15:49:06.580511Z",
     "start_time": "2024-08-29T15:49:06.562219Z"
    }
   },
   "source": [
    "import torch\n",
    "import torch.nn as nn\n",
    "import torch.nn.functional as F\n",
    "import torch.optim as optim\n",
    "import torchvision.datasets as datasets\n",
    "import torchvision.transforms as transforms"
   ],
   "outputs": [],
   "execution_count": 9
  },
  {
   "metadata": {
    "ExecuteTime": {
     "end_time": "2024-08-29T14:21:47.055115Z",
     "start_time": "2024-08-29T14:21:47.038241Z"
    }
   },
   "cell_type": "code",
   "source": "datapath='F:\\\\deeplearning\\\\datasets'",
   "id": "79a8b69e99ef3c30",
   "outputs": [],
   "execution_count": 2
  },
  {
   "metadata": {
    "ExecuteTime": {
     "end_time": "2024-08-29T14:21:49.006373Z",
     "start_time": "2024-08-29T14:21:48.997511Z"
    }
   },
   "cell_type": "code",
   "source": [
    "model=nn.Sequential(nn.Conv2d(3,16,kernel_size=3,padding=1),nn.Tanh(),nn.MaxPool2d(2),\n",
    "                    nn.Conv2d(16,8,kernel_size=3,padding=1),nn.Tanh(),nn.MaxPool2d(2),\n",
    "                    nn.Linear(8*8*8,32),nn.Tanh(),nn.Linear(32,2))"
   ],
   "id": "9ee9510227ce9233",
   "outputs": [],
   "execution_count": 3
  },
  {
   "metadata": {
    "ExecuteTime": {
     "end_time": "2024-08-29T14:21:51.827300Z",
     "start_time": "2024-08-29T14:21:51.819297Z"
    }
   },
   "cell_type": "code",
   "source": [
    "numel_list = [p.numel() for p in model.parameters()] \n",
    "sum(numel_list), numel_list"
   ],
   "id": "5b9dc5f6885e7cb2",
   "outputs": [
    {
     "data": {
      "text/plain": [
       "(18090, [432, 16, 1152, 8, 16384, 32, 64, 2])"
      ]
     },
     "execution_count": 4,
     "metadata": {},
     "output_type": "execute_result"
    }
   ],
   "execution_count": 4
  },
  {
   "metadata": {
    "ExecuteTime": {
     "end_time": "2024-08-29T14:39:13.185012Z",
     "start_time": "2024-08-29T14:39:13.165977Z"
    }
   },
   "cell_type": "code",
   "source": [
    "class Net(nn.Module):\n",
    "    def __init__(self):\n",
    "        super().__init__()\n",
    "        self.conv1=nn.Conv2d(3,16,kernel_size=3,padding=1)\n",
    "        self.active1=nn.Tanh()\n",
    "        self.pool1=nn.MaxPool2d(2)\n",
    "        self.conv2=nn.Conv2d(16,8,kernel_size=3,padding=1)\n",
    "        self.active2=nn.Tanh()\n",
    "        self.pool2=nn.MaxPool2d(2)\n",
    "        self.fullyconnected1=nn.Linear(8*8*8,32)\n",
    "        self.active3=nn.Tanh()\n",
    "        self.fullyconnected2=nn.Linear(32,2)\n",
    "    def forward(self,x):\n",
    "        input=self.pool1(self.active1(self.conv1(x)))\n",
    "        input=self.pool2(self.active2(self.conv2(input)))\n",
    "        input=input.view(-1,8*8*8)\n",
    "        input=self.active3(self.fullyconnected1(input))\n",
    "        input=self.fullyconnected2(input)\n",
    "        return input\n",
    "        "
   ],
   "id": "34f6f5fb242a484a",
   "outputs": [],
   "execution_count": 5
  },
  {
   "metadata": {
    "ExecuteTime": {
     "end_time": "2024-08-29T14:39:16.588364Z",
     "start_time": "2024-08-29T14:39:16.569990Z"
    }
   },
   "cell_type": "code",
   "source": [
    "model = Net() \n",
    "numel_list = [p.numel() for p in model.parameters()] \n",
    "sum(numel_list), numel_list"
   ],
   "id": "1f0155e1819a99f4",
   "outputs": [
    {
     "data": {
      "text/plain": [
       "(18090, [432, 16, 1152, 8, 16384, 32, 64, 2])"
      ]
     },
     "execution_count": 6,
     "metadata": {},
     "output_type": "execute_result"
    }
   ],
   "execution_count": 6
  },
  {
   "metadata": {
    "ExecuteTime": {
     "end_time": "2024-08-29T15:18:59.339260Z",
     "start_time": "2024-08-29T15:18:59.329258Z"
    }
   },
   "cell_type": "code",
   "source": "import datetime ",
   "id": "300c1a7e37b980e7",
   "outputs": [],
   "execution_count": 7
  },
  {
   "metadata": {
    "ExecuteTime": {
     "end_time": "2024-08-29T15:53:07.752642Z",
     "start_time": "2024-08-29T15:53:07.445791Z"
    }
   },
   "cell_type": "code",
   "source": "tensor_cifar10=datasets.CIFAR10(datapath,train=False,download=False,transform=transforms.ToTensor())",
   "id": "9747c10f77f049cf",
   "outputs": [],
   "execution_count": 10
  },
  {
   "metadata": {
    "ExecuteTime": {
     "end_time": "2024-08-29T15:53:11.790757Z",
     "start_time": "2024-08-29T15:53:10.371459Z"
    }
   },
   "cell_type": "code",
   "source": "imgs=torch.stack([img for img ,_ in tensor_cifar10],dim=3)",
   "id": "85694d49e60ff04c",
   "outputs": [],
   "execution_count": 11
  },
  {
   "metadata": {
    "ExecuteTime": {
     "end_time": "2024-08-29T15:53:13.406040Z",
     "start_time": "2024-08-29T15:53:13.195994Z"
    }
   },
   "cell_type": "code",
   "source": [
    "a = imgs.view(3, -1).mean(dim=1)\n",
    "b = imgs.view(3, -1).std(dim=1)"
   ],
   "id": "7fa79d7284e2dee5",
   "outputs": [],
   "execution_count": 12
  },
  {
   "metadata": {
    "ExecuteTime": {
     "end_time": "2024-08-29T15:53:15.675345Z",
     "start_time": "2024-08-29T15:53:15.269333Z"
    }
   },
   "cell_type": "code",
   "source": "transforms_cifar10_val= datasets.CIFAR10(datapath,train=False,download=False,transform=transforms.Compose([transforms.ToTensor(),transforms.Normalize(a, b)]))   ",
   "id": "4f73f1e47e77353c",
   "outputs": [],
   "execution_count": 13
  },
  {
   "metadata": {
    "ExecuteTime": {
     "end_time": "2024-08-29T15:53:57.552064Z",
     "start_time": "2024-08-29T15:53:56.987294Z"
    }
   },
   "cell_type": "code",
   "source": "transforms_cifar10= datasets.CIFAR10(datapath,train=True,download=False,transform=transforms.Compose([transforms.ToTensor(),transforms.Normalize(a, b)]))    ",
   "id": "575298e529bf3665",
   "outputs": [],
   "execution_count": 14
  },
  {
   "metadata": {
    "ExecuteTime": {
     "end_time": "2024-08-29T15:54:16.941664Z",
     "start_time": "2024-08-29T15:54:09.028135Z"
    }
   },
   "cell_type": "code",
   "source": [
    "label_map={0:0,2:1}\n",
    "cifar2=[ (img,label_map[label]) for img,label in transforms_cifar10 if label in [0,2] ]"
   ],
   "id": "a1a60bc41145fee1",
   "outputs": [],
   "execution_count": 15
  },
  {
   "metadata": {
    "ExecuteTime": {
     "end_time": "2024-08-29T16:02:00.949584Z",
     "start_time": "2024-08-29T16:01:59.297219Z"
    }
   },
   "cell_type": "code",
   "source": "cifar2_val=[(img,label_map[label]) for img,label in transforms_cifar10_val if label in [0,2] ]",
   "id": "7462a7de2fc937ce",
   "outputs": [],
   "execution_count": 27
  },
  {
   "metadata": {
    "ExecuteTime": {
     "end_time": "2024-08-29T15:54:25.278625Z",
     "start_time": "2024-08-29T15:54:25.264623Z"
    }
   },
   "cell_type": "code",
   "source": "len(cifar2)",
   "id": "2b1260ce810bea26",
   "outputs": [
    {
     "data": {
      "text/plain": [
       "10000"
      ]
     },
     "execution_count": 16,
     "metadata": {},
     "output_type": "execute_result"
    }
   ],
   "execution_count": 16
  },
  {
   "metadata": {
    "ExecuteTime": {
     "end_time": "2024-08-29T15:55:08.830832Z",
     "start_time": "2024-08-29T15:55:08.819829Z"
    }
   },
   "cell_type": "code",
   "source": "train_loader = torch.utils.data.DataLoader(cifar2,batch_size=64,shuffle=True)",
   "id": "2b99d8cb6b641070",
   "outputs": [],
   "execution_count": 17
  },
  {
   "metadata": {
    "ExecuteTime": {
     "end_time": "2024-08-29T16:02:05.112725Z",
     "start_time": "2024-08-29T16:02:05.101602Z"
    }
   },
   "cell_type": "code",
   "source": "val_loader = torch.utils.data.DataLoader(cifar2_val,batch_size=64,shuffle=False)",
   "id": "e374c1bfa73ddf2a",
   "outputs": [],
   "execution_count": 28
  },
  {
   "metadata": {
    "ExecuteTime": {
     "end_time": "2024-08-29T15:55:32.568967Z",
     "start_time": "2024-08-29T15:55:32.557134Z"
    }
   },
   "cell_type": "code",
   "source": [
    "learningrate=1e-2\n",
    "n_epochs=50"
   ],
   "id": "f5c683e44b40b043",
   "outputs": [],
   "execution_count": 20
  },
  {
   "metadata": {
    "ExecuteTime": {
     "end_time": "2024-08-29T15:55:14.303023Z",
     "start_time": "2024-08-29T15:55:14.287454Z"
    }
   },
   "cell_type": "code",
   "source": "optimizer=optim.SGD(model.parameters(),lr=learningrate)",
   "id": "e73e1607c241623e",
   "outputs": [],
   "execution_count": 19
  },
  {
   "metadata": {
    "ExecuteTime": {
     "end_time": "2024-08-29T15:56:16.934884Z",
     "start_time": "2024-08-29T15:56:16.924882Z"
    }
   },
   "cell_type": "code",
   "source": "loss_fn=nn.CrossEntropyLoss()",
   "id": "5a16db633aa17f12",
   "outputs": [],
   "execution_count": 21
  },
  {
   "metadata": {
    "ExecuteTime": {
     "end_time": "2024-08-29T15:56:33.523909Z",
     "start_time": "2024-08-29T15:56:33.506032Z"
    }
   },
   "cell_type": "code",
   "source": [
    "def training_loop(n_epochs, optimizer, model, loss_fn, train_loader): \n",
    "   for epoch in range(1, n_epochs + 1): \n",
    "      loss_train = 0.0 \n",
    "      for imgs, labels in train_loader: \n",
    "        outputs = model(imgs) \n",
    "        loss = loss_fn(outputs, labels) \n",
    "        optimizer.zero_grad() \n",
    "        loss.backward() \n",
    "        optimizer.step() \n",
    "        loss_train += loss.item() \n",
    "      if epoch == 1 or epoch % 10 == 0: \n",
    "        print('{} Epoch {}, Training loss {}'.format( datetime.datetime.now(), \n",
    "                                                      epoch, loss_train / len(train_loader)))"
   ],
   "id": "62af63c034acb47a",
   "outputs": [],
   "execution_count": 22
  },
  {
   "metadata": {
    "ExecuteTime": {
     "end_time": "2024-08-29T16:00:11.407137Z",
     "start_time": "2024-08-29T15:57:42.068975Z"
    }
   },
   "cell_type": "code",
   "source": [
    "training_loop( \n",
    " n_epochs = 100, \n",
    " optimizer = optimizer, \n",
    " model = model, \n",
    " loss_fn = loss_fn, \n",
    " train_loader = train_loader, \n",
    ")"
   ],
   "id": "b4bd760511433b8b",
   "outputs": [
    {
     "name": "stdout",
     "output_type": "stream",
     "text": [
      "2024-08-29 23:57:44.166492 Epoch 1, Training loss 0.6009923371539754\n",
      "2024-08-29 23:57:56.605043 Epoch 10, Training loss 0.32996869628216813\n",
      "2024-08-29 23:58:10.597173 Epoch 20, Training loss 0.29696458103550466\n",
      "2024-08-29 23:58:24.241008 Epoch 30, Training loss 0.2757971270164107\n",
      "2024-08-29 23:58:38.166001 Epoch 40, Training loss 0.26012524117709723\n",
      "2024-08-29 23:58:52.181403 Epoch 50, Training loss 0.24278048478114378\n",
      "2024-08-29 23:59:06.990764 Epoch 60, Training loss 0.2244673086104879\n",
      "2024-08-29 23:59:24.056534 Epoch 70, Training loss 0.20878569701105165\n",
      "2024-08-29 23:59:40.142930 Epoch 80, Training loss 0.19548199534606023\n",
      "2024-08-29 23:59:55.778227 Epoch 90, Training loss 0.17811112497357806\n",
      "2024-08-30 00:00:11.404136 Epoch 100, Training loss 0.16377417966248883\n"
     ]
    }
   ],
   "execution_count": 23
  },
  {
   "metadata": {
    "ExecuteTime": {
     "end_time": "2024-08-29T16:04:33.983571Z",
     "start_time": "2024-08-29T16:04:33.975569Z"
    }
   },
   "cell_type": "code",
   "source": [
    "def validate(model, train_loader, val_loader): \n",
    "    for name, loader in [(\"train\", train_loader), (\"val\", val_loader)]: \n",
    "        correct = 0 \n",
    "        total = 0 \n",
    "        with torch.no_grad(): \n",
    "            for imgs, labels in loader: \n",
    "                outputs = model(imgs) \n",
    "                _, predicted = torch.max(outputs, dim=1) \n",
    "                total += labels.shape[0] \n",
    "                correct += int((predicted == labels).sum()) \n",
    "        print(\"Accuracy {}: {:.2f}\".format(name , correct / total)) "
   ],
   "id": "24f6399f92b8973c",
   "outputs": [],
   "execution_count": 31
  },
  {
   "metadata": {
    "ExecuteTime": {
     "end_time": "2024-08-29T16:04:37.775930Z",
     "start_time": "2024-08-29T16:04:36.377085Z"
    }
   },
   "cell_type": "code",
   "source": "validate(model, train_loader, val_loader)",
   "id": "bf38ddafaa43d7d1",
   "outputs": [
    {
     "name": "stdout",
     "output_type": "stream",
     "text": [
      "Accuracy train: 0.94\n",
      "Accuracy val: 0.89\n"
     ]
    }
   ],
   "execution_count": 32
  },
  {
   "metadata": {
    "ExecuteTime": {
     "end_time": "2024-08-29T16:07:23.642371Z",
     "start_time": "2024-08-29T16:07:23.629369Z"
    }
   },
   "cell_type": "code",
   "source": [
    "torch.save(model.state_dict(), datapath + 'birds_vs_airplanes.pt') \n",
    "#保存模型的参数即 2 个卷积模块和 2 个线性模块的权重和偏置"
   ],
   "id": "569f184666c49e92",
   "outputs": [],
   "execution_count": 33
  },
  {
   "metadata": {},
   "cell_type": "code",
   "outputs": [],
   "execution_count": null,
   "source": "",
   "id": "f918b192d6e52e7d"
  }
 ],
 "metadata": {
  "kernelspec": {
   "display_name": "Python 3",
   "language": "python",
   "name": "python3"
  },
  "language_info": {
   "codemirror_mode": {
    "name": "ipython",
    "version": 2
   },
   "file_extension": ".py",
   "mimetype": "text/x-python",
   "name": "python",
   "nbconvert_exporter": "python",
   "pygments_lexer": "ipython2",
   "version": "2.7.6"
  }
 },
 "nbformat": 4,
 "nbformat_minor": 5
}
