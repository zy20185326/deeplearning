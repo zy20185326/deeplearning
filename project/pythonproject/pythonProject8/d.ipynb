{
 "cells": [
  {
   "cell_type": "code",
   "id": "initial_id",
   "metadata": {
    "collapsed": true,
    "ExecuteTime": {
     "end_time": "2024-08-26T22:01:47.840605Z",
     "start_time": "2024-08-26T22:01:45.267371Z"
    }
   },
   "source": [
    "import sys\n",
    "import torch\n",
    "print(torch.__version__)\n",
    "a=torch.tensor([[1,2,3],[4,5,6]])\n",
    "print(a)"
   ],
   "outputs": [
    {
     "name": "stdout",
     "output_type": "stream",
     "text": [
      "2.3.1\n",
      "tensor([[1, 2, 3],\n",
      "        [4, 5, 6]])\n"
     ]
    }
   ],
   "execution_count": 1
  },
  {
   "metadata": {
    "ExecuteTime": {
     "end_time": "2024-08-27T04:29:56.827024Z",
     "start_time": "2024-08-27T04:29:53.462087Z"
    }
   },
   "cell_type": "code",
   "source": "import torch.nn as nn",
   "id": "1f6db7fd24cf7728",
   "outputs": [],
   "execution_count": 1
  },
  {
   "metadata": {
    "ExecuteTime": {
     "end_time": "2024-08-27T04:30:35.145721Z",
     "start_time": "2024-08-27T04:30:35.120069Z"
    }
   },
   "cell_type": "code",
   "source": [
    "seq_model=nn.Sequential(nn.Linear(1,14),\n",
    "                        nn.ReLU(),\n",
    "                        nn.Linear(14,1))"
   ],
   "id": "d889e11700331636",
   "outputs": [],
   "execution_count": 2
  },
  {
   "metadata": {
    "ExecuteTime": {
     "end_time": "2024-08-27T04:30:38.888987Z",
     "start_time": "2024-08-27T04:30:38.877987Z"
    }
   },
   "cell_type": "code",
   "source": "seq_model",
   "id": "47206c7abef00af9",
   "outputs": [
    {
     "data": {
      "text/plain": [
       "Sequential(\n",
       "  (0): Linear(in_features=1, out_features=14, bias=True)\n",
       "  (1): ReLU()\n",
       "  (2): Linear(in_features=14, out_features=1, bias=True)\n",
       ")"
      ]
     },
     "execution_count": 3,
     "metadata": {},
     "output_type": "execute_result"
    }
   ],
   "execution_count": 3
  },
  {
   "metadata": {},
   "cell_type": "code",
   "outputs": [],
   "execution_count": null,
   "source": "",
   "id": "4481a842fe6f87e6"
  }
 ],
 "metadata": {
  "kernelspec": {
   "display_name": "Python [conda env:pytorch] *",
   "language": "python",
   "name": "conda-env-pytorch-py"
  },
  "language_info": {
   "codemirror_mode": {
    "name": "ipython",
    "version": 2
   },
   "file_extension": ".py",
   "mimetype": "text/x-python",
   "name": "python",
   "nbconvert_exporter": "python",
   "pygments_lexer": "ipython2",
   "version": "2.7.6"
  }
 },
 "nbformat": 4,
 "nbformat_minor": 5
}
